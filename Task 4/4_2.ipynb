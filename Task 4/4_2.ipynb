{
 "cells": [
  {
   "cell_type": "code",
   "execution_count": 1,
   "metadata": {},
   "outputs": [],
   "source": [
    "import cv2"
   ]
  },
  {
   "cell_type": "code",
   "execution_count": 2,
   "metadata": {},
   "outputs": [],
   "source": [
    "import pandas as pd"
   ]
  },
  {
   "cell_type": "code",
   "execution_count": 3,
   "metadata": {},
   "outputs": [],
   "source": [
    "photo = cv2.imread('pic1.jpg')"
   ]
  },
  {
   "cell_type": "code",
   "execution_count": 4,
   "metadata": {},
   "outputs": [],
   "source": [
    "photo1 = cv2.imread('pic2.jpg')\n",
    "# cv2.imshow('hi' , photo1)\n",
    "# cv2.waitKey()\n",
    "# cv2.destroyAllWindows()"
   ]
  },
  {
   "cell_type": "code",
   "execution_count": 5,
   "metadata": {},
   "outputs": [],
   "source": [
    "model = cv2.CascadeClassifier('haarcascade_frontalface_default.xml')"
   ]
  },
  {
   "cell_type": "code",
   "execution_count": 6,
   "metadata": {},
   "outputs": [],
   "source": [
    "face = model.detectMultiScale(photo)\n",
    "x1 = face[0][0]\n",
    "y1 = face[0][1]\n",
    "x2 = x1 + face[0][2]\n",
    "y2 = y1 + face[0][3]\n",
    "sel_photo = cv2.rectangle(photo , (x1 , y1) , (x2 , y2) , [0 , 255 , 0] , 5)\n",
    "cv2.imshow('hi' , sel_photo)\n",
    "cv2.waitKey()\n",
    "cv2.destroyAllWindows()"
   ]
  },
  {
   "cell_type": "markdown",
   "metadata": {},
   "source": [
    "model.detectMultiScale(photo)"
   ]
  },
  {
   "cell_type": "code",
   "execution_count": 7,
   "metadata": {},
   "outputs": [],
   "source": [
    "\n",
    "\n",
    "face1 = model.detectMultiScale(photo1)\n",
    "a1 = face1[0][0]\n",
    "b1 = face1[0][1]\n",
    "a2 = a1 + face1[0][2]\n",
    "b2 = b1 + face1[0][3]\n",
    "sel_photo = cv2.rectangle(photo1 , (a1 , b1) , (a2 , b2) , [0 , 255 , 0] , 5)\n",
    "cv2.imshow('hi' , sel_photo)\n",
    "cv2.waitKey()\n",
    "cv2.destroyAllWindows()"
   ]
  },
  {
   "cell_type": "code",
   "execution_count": 8,
   "metadata": {
    "scrolled": true
   },
   "outputs": [
    {
     "data": {
      "text/plain": [
       "array([[309,  60, 170, 170]], dtype=int32)"
      ]
     },
     "execution_count": 8,
     "metadata": {},
     "output_type": "execute_result"
    }
   ],
   "source": [
    "face"
   ]
  },
  {
   "cell_type": "code",
   "execution_count": 9,
   "metadata": {},
   "outputs": [],
   "source": [
    "pic1 = photo[y1 : y2 , x1 : x2]\n",
    "pic2 = photo1[b1 : b2 , a1 : a2]\n",
    "size1 = pic1.shape\n",
    "size2 = pic2.shape\n",
    "pic2 = cv2.resize(pic2 , (size1[0] , size1[1]))\n",
    "pic1 = cv2.resize(pic1 , (size2[0] , size2[1]))\n",
    "pic1.shape\n",
    "\n",
    "photo[y1 : y2 , x1 : x2] = pic2\n",
    "photo1[b1 : b2 , a1 : a2] = pic1"
   ]
  },
  {
   "cell_type": "code",
   "execution_count": 12,
   "metadata": {},
   "outputs": [],
   "source": [
    "cv2.imshow('hi' , photo1)\n",
    "cv2.waitKey()\n",
    "cv2.destroyAllWindows()"
   ]
  },
  {
   "cell_type": "code",
   "execution_count": null,
   "metadata": {},
   "outputs": [],
   "source": []
  }
 ],
 "metadata": {
  "kernelspec": {
   "display_name": "Python 3",
   "language": "python",
   "name": "python3"
  },
  "language_info": {
   "codemirror_mode": {
    "name": "ipython",
    "version": 3
   },
   "file_extension": ".py",
   "mimetype": "text/x-python",
   "name": "python",
   "nbconvert_exporter": "python",
   "pygments_lexer": "ipython3",
   "version": "3.7.6"
  }
 },
 "nbformat": 4,
 "nbformat_minor": 5
}
